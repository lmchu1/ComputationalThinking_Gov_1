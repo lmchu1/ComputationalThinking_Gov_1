{
 "cells": [
  {
   "cell_type": "markdown",
   "metadata": {},
   "source": [
    "<center><img src=\"http://i.imgur.com/sSaOozN.png\" width=\"500\"></center>"
   ]
  },
  {
   "cell_type": "markdown",
   "metadata": {},
   "source": [
    "## Course: Computational Thinking for Governance Analytics\n",
    "\n",
    "### Prof. José Manuel Magallanes, PhD \n",
    "* Visiting Professor of Computational Policy at Evans School of Public Policy and Governance, and eScience Institute Senior Data Science Fellow, University of Washington.\n",
    "* Professor of Government and Political Methodology, Pontificia Universidad Católica del Perú. \n",
    "\n",
    "_____\n",
    "\n",
    "# Session 1:  Programming Fundamentals\n",
    "\n",
    "## Part B: Control of Execution in Python"
   ]
  },
  {
   "cell_type": "markdown",
   "metadata": {},
   "source": [
    "<a id='beginning'></a>\n",
    "\n",
    "You can  not be an effective programmer, if you can not master the concept of control of execution when writing a code. I will introduce three main schemes:\n",
    "\n",
    "1. [Conditional Execution.](#part1) \n",
    "2. [Loops.](#part2) \n",
    "3. [Error Handling.](#part3) \n",
    "\n",
    "I will also introduce the concept of **[comprehensions](#comprehension)** that Python supports (but not R).\n",
    "\n",
    "----"
   ]
  },
  {
   "cell_type": "markdown",
   "metadata": {},
   "source": [
    "<a id='part1'></a> \n",
    "## Conditional Execution"
   ]
  },
  {
   "cell_type": "markdown",
   "metadata": {},
   "source": [
    "This is how you tell the computer what part of a code to execute depending if an event is true or false."
   ]
  },
  {
   "cell_type": "code",
   "execution_count": 6,
   "metadata": {},
   "outputs": [
    {
     "name": "stdout",
     "output_type": "stream",
     "text": [
      "Result: 10.0\n"
     ]
    }
   ],
   "source": [
    "from math import sqrt\n",
    "\n",
    "myval=100\n",
    "\n",
    "#condition\n",
    "if myval >= 0:  # after the condition, we need to write \":\" -- python will then make an indent for our next line\n",
    "    # what to do if condition is true:\n",
    "    rootValue=sqrt(myval)\n",
    "    print ('Result:',rootValue) # these won't work if the indentation doesn't match\n",
    "else:\n",
    "    # what to do if condition is false:\n",
    "    print('Sorry, I do not compute square roots of negative numbers')\n",
    "    \n",
    "# print() brings the specified message to the screen, allows us to customize what we say"
   ]
  },
  {
   "cell_type": "markdown",
   "metadata": {},
   "source": [
    "Notice the condition follows *if* immediately. Notice also the use of **indentation** to indicate a group of instructions under the effect of the condition. This is very different from *R*. If you omitted the whole **else** section, the program will still run, but it will neither send any message nor value when the input is invalid.\n",
    "\n",
    "When condition is complex, besides using **&**/**|**/**~** as in pandas, you can use  **and** / **or** / **not**:"
   ]
  },
  {
   "cell_type": "code",
   "execution_count": 9,
   "metadata": {},
   "outputs": [
    {
     "name": "stdout",
     "output_type": "stream",
     "text": [
      "This is an odd number greater than 10\n"
     ]
    }
   ],
   "source": [
    "value=17\n",
    "\n",
    "if (value <= 10) & (value%2==0) :\n",
    "    print('This is an even number less than 11')\n",
    "elif (value <= 10) & (value%2>0) : \n",
    "    print('This is an odd number less than 11')\n",
    "elif (value > 10) & (value%2>0) : \n",
    "    print('This is an odd number greater than 10')\n",
    "else:\n",
    "    print('This is an even number greater than 10')\n",
    "    \n",
    "# elif() used when we want to add a condition\n",
    "# else() is if none of the conditions work \n",
    "# % symbol = remainder after you do division...so the remainder of 8/2=0\n",
    "    # 3%2 = 1 because the remainder after dividing = 1"
   ]
  },
  {
   "cell_type": "code",
   "execution_count": 12,
   "metadata": {},
   "outputs": [
    {
     "name": "stdout",
     "output_type": "stream",
     "text": [
      "This is an even number less than 11\n"
     ]
    }
   ],
   "source": [
    "value=8\n",
    "\n",
    "if value <= 10 and value%2==0 : \n",
    "    print('This is an even number less than 11')\n",
    "elif value <= 10 and value%2>0 : \n",
    "    print('This is an odd number less than 11')\n",
    "elif value > 10 and value%2>0 : \n",
    "    print('This is an odd number greater than 10')\n",
    "else:\n",
    "    print('This is an even number greater than 10')\n",
    "\n",
    "# we can use 'and' instead of & with parentheses...the latter is preferred though\n",
    "# & strictly requires parentheses"
   ]
  },
  {
   "cell_type": "markdown",
   "metadata": {},
   "source": [
    "Notice what happens if you do not use parenthesis with the '&' (or that family)"
   ]
  },
  {
   "cell_type": "code",
   "execution_count": 11,
   "metadata": {},
   "outputs": [
    {
     "name": "stdout",
     "output_type": "stream",
     "text": [
      "This is an even number greater than 10\n"
     ]
    }
   ],
   "source": [
    "value=8\n",
    "\n",
    "if value <= 10 & value%2==0 : \n",
    "    print('This is an even number less than 11')\n",
    "elif value <= 10 & value%2>0: \n",
    "    print('This is an odd number less than 11')\n",
    "elif value > 10 & value%2>0: \n",
    "    print('This is an odd number greater than 10')\n",
    "else:\n",
    "    print('This is an even number greater than 10')"
   ]
  },
  {
   "cell_type": "markdown",
   "metadata": {},
   "source": [
    "[Go to page beginning](#beginning)\n",
    "\n",
    "----"
   ]
  },
  {
   "cell_type": "markdown",
   "metadata": {},
   "source": [
    "<a id='part2'></a> \n",
    "\n",
    "## Loops"
   ]
  },
  {
   "cell_type": "markdown",
   "metadata": {},
   "source": [
    "This is how you tell the computer to do something many times (and to stop when it has to):"
   ]
  },
  {
   "cell_type": "code",
   "execution_count": 16,
   "metadata": {},
   "outputs": [
    {
     "name": "stdout",
     "output_type": "stream",
     "text": [
      "3.0\n",
      "5.0\n",
      "10.0\n"
     ]
    }
   ],
   "source": [
    "from math import sqrt  # no need for this in R\n",
    "\n",
    "values=[9,25,100]\n",
    "\n",
    "for x in values:  # for each x in values...\n",
    "    print(sqrt(x)) # print the square root of each x"
   ]
  },
  {
   "cell_type": "markdown",
   "metadata": {},
   "source": [
    "Notice that Python does not have a *sqrt* function in its base. The package **math** took care of that.\n",
    "\n",
    "You do not need to show each result, you could save the results."
   ]
  },
  {
   "cell_type": "code",
   "execution_count": 17,
   "metadata": {},
   "outputs": [
    {
     "data": {
      "text/plain": [
       "[3.0, 5.0, 10.0]"
      ]
     },
     "execution_count": 17,
     "metadata": {},
     "output_type": "execute_result"
    }
   ],
   "source": [
    "values=[9,25,100]\n",
    "rootValues=[] # empty list, we will populate it later!\n",
    "\n",
    "for value in values:\n",
    "    rootValues.append(sqrt(value))  # appending an element to the list (populating the list)\n",
    "                                    # need to explicitly tell python we want to append (populate) the list\n",
    "\n",
    "# This list started empty, now see what its elements are:\n",
    "rootValues"
   ]
  },
  {
   "cell_type": "markdown",
   "metadata": {},
   "source": [
    "It is evident that combining *loops* and *conditonals* we can make better programs. This code is NOT controlling well the process:"
   ]
  },
  {
   "cell_type": "code",
   "execution_count": null,
   "metadata": {},
   "outputs": [],
   "source": [
    "values=[9,25,-100]\n",
    "rootValues=[]\n",
    "\n",
    "for value in values:\n",
    "    rootValues.append(sqrt(value))\n",
    "\n",
    "# to see the results:\n",
    "rootValues\n",
    "\n",
    "# doesn't work because we can't take the sqrt of -100"
   ]
  },
  {
   "cell_type": "markdown",
   "metadata": {},
   "source": [
    "Above, you saw that Python gives an error ('ValueError'), it is because _sqrt_ is not defined for negative values; then the process ended abruptly. The code below controls the execution better:"
   ]
  },
  {
   "cell_type": "code",
   "execution_count": 20,
   "metadata": {},
   "outputs": [
    {
     "name": "stdout",
     "output_type": "stream",
     "text": [
      "We added a missing value (None) when we received a negative input\n",
      "We added a missing value (None) when we received a negative input\n"
     ]
    },
    {
     "data": {
      "text/plain": [
       "[3.0, 5.0, None, 4.0, 8.0, None]"
      ]
     },
     "execution_count": 20,
     "metadata": {},
     "output_type": "execute_result"
    }
   ],
   "source": [
    "values=[9,25,-100, 16, 64, -2]\n",
    "rootValues=[]\n",
    "\n",
    "for value in values:\n",
    "    if value >=0:\n",
    "        rootValues.append(sqrt(value))\n",
    "    else:\n",
    "        print('We added a missing value (None) when we received a negative input')\n",
    "        rootValues.append(None)\n",
    "        \n",
    "# to see the results:\n",
    "rootValues\n",
    "\n",
    "# we want to append (populate) the rootValues list\n",
    "# for value in values, if value >= 0, then fill rootValues with the sqrt of that value\n",
    "# if value is not >=0, then fill rootValues with \"None\""
   ]
  },
  {
   "cell_type": "markdown",
   "metadata": {},
   "source": [
    "We are producing an output with the same size as input. If we omit the **else** structure, we will produce an output with smaller size than the input. \n",
    "\n",
    "You can also use **break** when you consider the execution should stop:"
   ]
  },
  {
   "cell_type": "code",
   "execution_count": 26,
   "metadata": {},
   "outputs": [
    {
     "name": "stdout",
     "output_type": "stream",
     "text": [
      "We need to stop, invalid value detected\n"
     ]
    },
    {
     "data": {
      "text/plain": [
       "[3.0, 5.0]"
      ]
     },
     "execution_count": 26,
     "metadata": {},
     "output_type": "execute_result"
    }
   ],
   "source": [
    "values=[9,25,-100,144,-72]\n",
    "rootValues=[]\n",
    "\n",
    "for value in values:\n",
    "    # checking the value:\n",
    "    if value <0:\n",
    "        print('We need to stop, invalid value detected')\n",
    "        break # without this or continue, we will get an error \n",
    "    # you will get here if the value is not negative\n",
    "    rootValues.append(sqrt(value))\n",
    "        \n",
    "\n",
    "# to see the results:\n",
    "rootValues"
   ]
  },
  {
   "cell_type": "markdown",
   "metadata": {},
   "source": [
    "The code above halted the program."
   ]
  },
  {
   "cell_type": "markdown",
   "metadata": {},
   "source": [
    "You can use **continue** when you consider the execution should not halt:"
   ]
  },
  {
   "cell_type": "code",
   "execution_count": 22,
   "metadata": {},
   "outputs": [
    {
     "name": "stdout",
     "output_type": "stream",
     "text": [
      "3.0 is the root of  9\n",
      "missing values as input\n",
      "nan is the root of  nan\n",
      "string as input\n",
      "negative value as input\n",
      "12.0 is the root of  144\n",
      "negative value as input\n"
     ]
    }
   ],
   "source": [
    "import numpy as np\n",
    "\n",
    "values=[9,None,np.nan, '1000',-100, 144,-72]\n",
    "for value in values: # notice the order of 'IFs'\n",
    "    if value==None: # condition1, if value is a missing value\n",
    "        print ('missing values as input')\n",
    "        continue\n",
    "    if isinstance(value, str): #condition2\n",
    "        print ('string as input')\n",
    "        continue\n",
    "    if value < 0: # condition3, if value is less than 0\n",
    "        print ('negative value as input')\n",
    "        continue\n",
    "    print (sqrt(value), 'is the root of ',value)            "
   ]
  },
  {
   "cell_type": "markdown",
   "metadata": {},
   "source": [
    "The _None_ and _NAN_ have a different nature:"
   ]
  },
  {
   "cell_type": "code",
   "execution_count": 27,
   "metadata": {},
   "outputs": [
    {
     "data": {
      "text/plain": [
       "(NoneType, float)"
      ]
     },
     "execution_count": 27,
     "metadata": {},
     "output_type": "execute_result"
    }
   ],
   "source": [
    "type(None),type(np.nan)\n",
    "\n",
    "# None is a missing value in general\n",
    "# NAN is considering a missing value only for numbers"
   ]
  },
  {
   "cell_type": "markdown",
   "metadata": {},
   "source": [
    "You use both values to denote a missing value, but NAN is common in structures containing only numbers, while None in any structure. Becareful when doing math:"
   ]
  },
  {
   "cell_type": "code",
   "execution_count": 28,
   "metadata": {},
   "outputs": [
    {
     "ename": "TypeError",
     "evalue": "unsupported operand type(s) for +: 'int' and 'NoneType'",
     "output_type": "error",
     "traceback": [
      "\u001b[0;31m---------------------------------------------------------------------------\u001b[0m",
      "\u001b[0;31mTypeError\u001b[0m                                 Traceback (most recent call last)",
      "\u001b[0;32m<ipython-input-28-fc4662b20529>\u001b[0m in \u001b[0;36m<module>\u001b[0;34m\u001b[0m\n\u001b[0;32m----> 1\u001b[0;31m \u001b[0;36m10\u001b[0m \u001b[0;34m+\u001b[0m \u001b[0;32mNone\u001b[0m\u001b[0;34m\u001b[0m\u001b[0m\n\u001b[0m",
      "\u001b[0;31mTypeError\u001b[0m: unsupported operand type(s) for +: 'int' and 'NoneType'"
     ]
    }
   ],
   "source": [
    "10 + None"
   ]
  },
  {
   "cell_type": "markdown",
   "metadata": {},
   "source": [
    "In the previous case, Python complains because '+' can not be used to add those two different data types. It is like trying this:"
   ]
  },
  {
   "cell_type": "code",
   "execution_count": 29,
   "metadata": {},
   "outputs": [
    {
     "ename": "TypeError",
     "evalue": "unsupported operand type(s) for +: 'int' and 'str'",
     "output_type": "error",
     "traceback": [
      "\u001b[0;31m---------------------------------------------------------------------------\u001b[0m",
      "\u001b[0;31mTypeError\u001b[0m                                 Traceback (most recent call last)",
      "\u001b[0;32m<ipython-input-29-510d8142d9e2>\u001b[0m in \u001b[0;36m<module>\u001b[0;34m\u001b[0m\n\u001b[0;32m----> 1\u001b[0;31m \u001b[0;36m10\u001b[0m \u001b[0;34m+\u001b[0m \u001b[0;34m'10'\u001b[0m\u001b[0;34m\u001b[0m\u001b[0m\n\u001b[0m",
      "\u001b[0;31mTypeError\u001b[0m: unsupported operand type(s) for +: 'int' and 'str'"
     ]
    }
   ],
   "source": [
    "10 + '10'"
   ]
  },
  {
   "cell_type": "markdown",
   "metadata": {},
   "source": [
    "As previously mentioned, nan is used with numerical data to denote missing values, so this operation is allowed:"
   ]
  },
  {
   "cell_type": "code",
   "execution_count": 30,
   "metadata": {},
   "outputs": [
    {
     "data": {
      "text/plain": [
       "nan"
      ]
     },
     "execution_count": 30,
     "metadata": {},
     "output_type": "execute_result"
    }
   ],
   "source": [
    "10 + np.nan"
   ]
  },
  {
   "cell_type": "markdown",
   "metadata": {},
   "source": [
    "\n",
    "_Loops_ are also needed when you want to count the presence of a particular value:"
   ]
  },
  {
   "cell_type": "code",
   "execution_count": 31,
   "metadata": {},
   "outputs": [
    {
     "data": {
      "text/plain": [
       "2"
      ]
     },
     "execution_count": 31,
     "metadata": {},
     "output_type": "execute_result"
    }
   ],
   "source": [
    "values=[9,25,-100,144,-72]\n",
    "\n",
    "counterOfInvalids=0 # counter \n",
    "\n",
    "for value in values:\n",
    "    if value <0:\n",
    "        counterOfInvalids +=1 #updating counter\n",
    "\n",
    "# to see the results:\n",
    "counterOfInvalids\n",
    "\n",
    "# this counts the number of negative values we have"
   ]
  },
  {
   "cell_type": "markdown",
   "metadata": {},
   "source": [
    "You may want to save particular positions (here is another difference with R):"
   ]
  },
  {
   "cell_type": "code",
   "execution_count": 32,
   "metadata": {},
   "outputs": [
    {
     "data": {
      "text/plain": [
       "[2, 4]"
      ]
     },
     "execution_count": 32,
     "metadata": {},
     "output_type": "execute_result"
    }
   ],
   "source": [
    "values=[9,25,-100,144,-72] #position 0 1 2 3 4\n",
    "positionInvalids=[]\n",
    "currentPosition=0 # ithis is the 'accumulator' initial position\n",
    "\n",
    "for value in values:\n",
    "    if value <0: \n",
    "        positionInvalids.append(currentPosition) # if value is negative, then append with the position number\n",
    "    currentPosition+=1 # becareful where you put the 'accumulator' \n",
    "                       # +=1 means increase position by 1\n",
    "\n",
    "# to see the results:\n",
    "positionInvalids \n",
    "\n",
    "# this shows which positions have negative values (position 2, position 4)"
   ]
  },
  {
   "cell_type": "code",
   "execution_count": null,
   "metadata": {},
   "outputs": [],
   "source": [
    "# testing:\n",
    "for pos in positionInvalids:\n",
    "    print (values[pos])"
   ]
  },
  {
   "cell_type": "markdown",
   "metadata": {},
   "source": [
    "If you have boolean values, you can profit by using boolean operators:"
   ]
  },
  {
   "cell_type": "code",
   "execution_count": null,
   "metadata": {},
   "outputs": [],
   "source": [
    "bvalues=[True,False,True,True]\n",
    "\n",
    "for element in bvalues:\n",
    "    if element:\n",
    "        print('this guy is True')"
   ]
  },
  {
   "cell_type": "code",
   "execution_count": null,
   "metadata": {},
   "outputs": [],
   "source": [
    "bvalues=[True,False,True,True]\n",
    "\n",
    "for element in bvalues:\n",
    "    print (element)\n",
    "    if element:\n",
    "        print('this guy is True',type(element))"
   ]
  },
  {
   "cell_type": "markdown",
   "metadata": {},
   "source": [
    "Notice this are not boolean:"
   ]
  },
  {
   "cell_type": "code",
   "execution_count": null,
   "metadata": {},
   "outputs": [],
   "source": [
    "# this is wrong\n",
    "for element in bvalues:\n",
    "    if ~element:\n",
    "        print('this guy is True')"
   ]
  },
  {
   "cell_type": "code",
   "execution_count": 29,
   "metadata": {},
   "outputs": [
    {
     "ename": "NameError",
     "evalue": "name 'bvalues' is not defined",
     "output_type": "error",
     "traceback": [
      "\u001b[0;31m---------------------------------------------------------------------------\u001b[0m",
      "\u001b[0;31mNameError\u001b[0m                                 Traceback (most recent call last)",
      "\u001b[0;32m<ipython-input-29-3c2068e49515>\u001b[0m in \u001b[0;36m<module>\u001b[0;34m\u001b[0m\n\u001b[0;32m----> 1\u001b[0;31m \u001b[0;32mfor\u001b[0m \u001b[0melement\u001b[0m \u001b[0;32min\u001b[0m \u001b[0mbvalues\u001b[0m\u001b[0;34m:\u001b[0m\u001b[0;34m\u001b[0m\u001b[0m\n\u001b[0m\u001b[1;32m      2\u001b[0m     \u001b[0mprint\u001b[0m \u001b[0;34m(\u001b[0m\u001b[0melement\u001b[0m\u001b[0;34m)\u001b[0m\u001b[0;34m\u001b[0m\u001b[0m\n\u001b[1;32m      3\u001b[0m     \u001b[0;32mif\u001b[0m \u001b[0;34m~\u001b[0m\u001b[0melement\u001b[0m\u001b[0;34m:\u001b[0m\u001b[0;34m\u001b[0m\u001b[0m\n\u001b[1;32m      4\u001b[0m         \u001b[0mprint\u001b[0m\u001b[0;34m(\u001b[0m\u001b[0;34m'this guy is True'\u001b[0m\u001b[0;34m,\u001b[0m\u001b[0;34m~\u001b[0m\u001b[0melement\u001b[0m\u001b[0;34m,\u001b[0m\u001b[0mtype\u001b[0m\u001b[0;34m(\u001b[0m\u001b[0;34m~\u001b[0m\u001b[0melement\u001b[0m\u001b[0;34m)\u001b[0m\u001b[0;34m)\u001b[0m\u001b[0;34m\u001b[0m\u001b[0m\n",
      "\u001b[0;31mNameError\u001b[0m: name 'bvalues' is not defined"
     ]
    }
   ],
   "source": [
    "for element in bvalues:\n",
    "    print (element)\n",
    "    if ~element:\n",
    "        print('this guy is True',~element,type(~element))"
   ]
  },
  {
   "cell_type": "code",
   "execution_count": null,
   "metadata": {},
   "outputs": [],
   "source": [
    "# this is wrong\n",
    "for element in bvalues:\n",
    "    if !element:\n",
    "        print('this guy is True')"
   ]
  },
  {
   "cell_type": "markdown",
   "metadata": {},
   "source": [
    "\n",
    "[Go to page beginning](#beginning)\n",
    "\n",
    "----"
   ]
  },
  {
   "cell_type": "markdown",
   "metadata": {},
   "source": [
    "<a id='part3'></a> \n",
    "\n",
    "## Error Handling"
   ]
  },
  {
   "cell_type": "markdown",
   "metadata": {},
   "source": [
    "We have controlled errors before, using *if-else*; however, Python has particular functions to take care of that:"
   ]
  },
  {
   "cell_type": "code",
   "execution_count": 3,
   "metadata": {},
   "outputs": [
    {
     "ename": "ValueError",
     "evalue": "math domain error",
     "output_type": "error",
     "traceback": [
      "\u001b[0;31m---------------------------------------------------------------------------\u001b[0m",
      "\u001b[0;31mValueError\u001b[0m                                Traceback (most recent call last)",
      "\u001b[0;32m<ipython-input-3-c328616a4b38>\u001b[0m in \u001b[0;36m<module>\u001b[0;34m\u001b[0m\n\u001b[1;32m      1\u001b[0m \u001b[0;31m# what kind of error you get:\u001b[0m\u001b[0;34m\u001b[0m\u001b[0;34m\u001b[0m\u001b[0m\n\u001b[1;32m      2\u001b[0m \u001b[0;32mfrom\u001b[0m \u001b[0mmath\u001b[0m \u001b[0;32mimport\u001b[0m \u001b[0msqrt\u001b[0m\u001b[0;34m\u001b[0m\u001b[0m\n\u001b[0;32m----> 3\u001b[0;31m \u001b[0mprint\u001b[0m \u001b[0;34m(\u001b[0m\u001b[0msqrt\u001b[0m\u001b[0;34m(\u001b[0m\u001b[0;34m-\u001b[0m\u001b[0;36m10\u001b[0m\u001b[0;34m)\u001b[0m\u001b[0;34m)\u001b[0m\u001b[0;34m\u001b[0m\u001b[0m\n\u001b[0m",
      "\u001b[0;31mValueError\u001b[0m: math domain error"
     ]
    }
   ],
   "source": [
    "# what kind of error you get:\n",
    "from math import sqrt\n",
    "print (sqrt(-10))"
   ]
  },
  {
   "cell_type": "code",
   "execution_count": 4,
   "metadata": {},
   "outputs": [
    {
     "ename": "TypeError",
     "evalue": "must be real number, not str",
     "output_type": "error",
     "traceback": [
      "\u001b[0;31m---------------------------------------------------------------------------\u001b[0m",
      "\u001b[0;31mTypeError\u001b[0m                                 Traceback (most recent call last)",
      "\u001b[0;32m<ipython-input-4-388a664baf86>\u001b[0m in \u001b[0;36m<module>\u001b[0;34m\u001b[0m\n\u001b[1;32m      1\u001b[0m \u001b[0;31m# what kind of error you get:\u001b[0m\u001b[0;34m\u001b[0m\u001b[0;34m\u001b[0m\u001b[0m\n\u001b[0;32m----> 2\u001b[0;31m \u001b[0mprint\u001b[0m \u001b[0;34m(\u001b[0m\u001b[0msqrt\u001b[0m\u001b[0;34m(\u001b[0m\u001b[0;34m'10'\u001b[0m\u001b[0;34m)\u001b[0m\u001b[0;34m)\u001b[0m\u001b[0;34m\u001b[0m\u001b[0m\n\u001b[0m",
      "\u001b[0;31mTypeError\u001b[0m: must be real number, not str"
     ]
    }
   ],
   "source": [
    "# what kind of error you get:\n",
    "print (sqrt('10'))"
   ]
  },
  {
   "cell_type": "markdown",
   "metadata": {},
   "source": [
    "Python is giving different types of **errors** (*Type* and *Value*), let's use that:"
   ]
  },
  {
   "cell_type": "code",
   "execution_count": 5,
   "metadata": {},
   "outputs": [],
   "source": [
    "values=[10,-10,'10'] # values is a list: 10, -10, and 10 as text"
   ]
  },
  {
   "cell_type": "code",
   "execution_count": 6,
   "metadata": {},
   "outputs": [
    {
     "name": "stdout",
     "output_type": "stream",
     "text": [
      "3.1622776601683795\n",
      "-10 is a Wrong number!\n",
      "10 is Not even a number!!\n"
     ]
    }
   ],
   "source": [
    "for value in values:\n",
    "    try:\n",
    "        print (sqrt(value))\n",
    "    except ValueError:\n",
    "        print (value,'is a Wrong number!')\n",
    "    except TypeError:\n",
    "        print (value,'is Not even a number!!')\n",
    "        "
   ]
  },
  {
   "cell_type": "markdown",
   "metadata": {},
   "source": [
    "[Go to page beginning](#beginning)\n",
    "____"
   ]
  },
  {
   "cell_type": "markdown",
   "metadata": {},
   "source": [
    "<a id='comprehension'></a>\n",
    "### Comprehensions\n",
    "\n",
    "Python has implemented ways to create data structures using a technique called comprehensions (R can not do that)."
   ]
  },
  {
   "cell_type": "markdown",
   "metadata": {},
   "source": [
    "As lists are mutable, this operation is creating a list on the run."
   ]
  },
  {
   "cell_type": "code",
   "execution_count": 7,
   "metadata": {},
   "outputs": [
    {
     "data": {
      "text/plain": [
       "[3.0, 5.0, 7.0, 11.0]"
      ]
     },
     "execution_count": 7,
     "metadata": {},
     "output_type": "execute_result"
    }
   ],
   "source": [
    "from math import sqrt\n",
    "\n",
    "values=[9,25,49,121]\n",
    "rootsInList=[sqrt(value) for value in values]  #List comprehension\n",
    "rootsInList\n",
    "\n",
    "# says: give me the square root for every value in this list\n",
    "# faster than creating a loop"
   ]
  },
  {
   "cell_type": "markdown",
   "metadata": {},
   "source": [
    "As tuples are immutable,  this operation is not creating a tuple on the run. We are in fact generating values that will later become a tuple."
   ]
  },
  {
   "cell_type": "code",
   "execution_count": 8,
   "metadata": {},
   "outputs": [
    {
     "data": {
      "text/plain": [
       "(3.0, 5.0, 7.0)"
      ]
     },
     "execution_count": 8,
     "metadata": {},
     "output_type": "execute_result"
    }
   ],
   "source": [
    "values=[9,25,49,-121]\n",
    "rootsInTuple=tuple(sqrt(value) for value in values if value > 0)  #tuple comprehension\n",
    "rootsInTuple\n",
    "\n",
    "# cannot create a loop with a tuple because we can't modify tuples"
   ]
  },
  {
   "cell_type": "markdown",
   "metadata": {},
   "source": [
    "Dicts can also be created that way:"
   ]
  },
  {
   "cell_type": "code",
   "execution_count": 9,
   "metadata": {},
   "outputs": [
    {
     "data": {
      "text/plain": [
       "{9: 3.0, 25: 5.0, 49: 7.0, -121: None}"
      ]
     },
     "execution_count": 9,
     "metadata": {},
     "output_type": "execute_result"
    }
   ],
   "source": [
    "values=[9,25,49,-121]\n",
    "rootsInDict={value:(sqrt(value) if value > 0 else None) for value in values}  #Dic comprehension\n",
    "rootsInDict\n",
    "\n",
    "# dic formatted as: {A: a, B: b, C: c}"
   ]
  },
  {
   "cell_type": "markdown",
   "metadata": {},
   "source": [
    "When you have a dict as input in comprehensions you can visit its values using _items()_ like this:"
   ]
  },
  {
   "cell_type": "code",
   "execution_count": 20,
   "metadata": {},
   "outputs": [
    {
     "data": {
      "text/plain": [
       "[['name', 'John'], ['age', 40], ['State', 'WA']]"
      ]
     },
     "execution_count": 20,
     "metadata": {},
     "output_type": "execute_result"
    }
   ],
   "source": [
    "newDict={'name':'John', 'age':40, 'State':'WA'}\n",
    "[[key,value] for key,value in newDict.items()]\n",
    "\n",
    "# created newDict, then formatted as list using comprehension\n",
    "# each element of the list will have [key, value]\n",
    "# can also work if you type [value, key] or just value or key\n",
    "# newDict.items() gives us a list of tuples\n",
    "# key,value can be named anything else (like x,y) because we know it is tuple\n",
    "    ## tuples don't need parentheses"
   ]
  },
  {
   "cell_type": "code",
   "execution_count": 22,
   "metadata": {},
   "outputs": [
    {
     "data": {
      "text/plain": [
       "[['name', 'John'], ['age', 40], ['State', 'WA']]"
      ]
     },
     "execution_count": 22,
     "metadata": {},
     "output_type": "execute_result"
    }
   ],
   "source": [
    "# to create a list of lists:\n",
    "[[item[0],item[1]] for item in newDict.items()]\n",
    "# give me a list with the 1st element of a tuple and the 2nd element of a tuple"
   ]
  },
  {
   "cell_type": "markdown",
   "metadata": {},
   "source": [
    "The function **zip** allows you to create tuples using parallel association:"
   ]
  },
  {
   "cell_type": "code",
   "execution_count": 23,
   "metadata": {},
   "outputs": [
    {
     "data": {
      "text/plain": [
       "[('a', 10), ('b', 20), ('c', 30)]"
      ]
     },
     "execution_count": 23,
     "metadata": {},
     "output_type": "execute_result"
    }
   ],
   "source": [
    "letters=['a','b','c']\n",
    "numbers=[10,20,30]\n",
    "list(zip(letters,numbers)) # list of tuples"
   ]
  },
  {
   "cell_type": "markdown",
   "metadata": {},
   "source": [
    "_Zipped_ lists are common in comprehensions:"
   ]
  },
  {
   "cell_type": "code",
   "execution_count": 28,
   "metadata": {},
   "outputs": [
    {
     "data": {
      "text/plain": [
       "[(10, 100), (20, 400), (30, 900)]"
      ]
     },
     "execution_count": 28,
     "metadata": {},
     "output_type": "execute_result"
    }
   ],
   "source": [
    "import numpy as np\n",
    "doubles=np.array(numbers)**2\n",
    "[(number,double) for number,double in zip(numbers,np.array(numbers)**2)]\n",
    "# need to do np.array(numbers)*2 so it's each value squared. otherwise it will just write out double the list"
   ]
  },
  {
   "cell_type": "markdown",
   "metadata": {},
   "source": [
    "Do the same as above without np.array or zip:"
   ]
  },
  {
   "cell_type": "code",
   "execution_count": 27,
   "metadata": {},
   "outputs": [
    {
     "data": {
      "text/plain": [
       "[(10, 100), (20, 400), (30, 900)]"
      ]
     },
     "execution_count": 27,
     "metadata": {},
     "output_type": "execute_result"
    }
   ],
   "source": [
    "[(number,number**2) for number in numbers]\n",
    "# this is a tuple\n",
    "# only need zip when you have two different lists"
   ]
  },
  {
   "cell_type": "markdown",
   "metadata": {},
   "source": [
    "## Class exercises:\n",
    "\n",
    "Make a function that:\n",
    "\n",
    "1. Create a data frame with this:"
   ]
  },
  {
   "cell_type": "code",
   "execution_count": null,
   "metadata": {},
   "outputs": [],
   "source": [
    "names=[\"Tomás\", \"Pauline\", \"Pablo\", \"Bjork\",\"Alan\",\"Juana\"]\n",
    "woman=[False,True,False,False,False,True]\n",
    "ages=[32,33,28,30,32,27]\n",
    "country=[\"Chile\", \"Senegal\", \"Spain\", \"Norway\",\"Peru\",\"Peru\"]\n",
    "education=[\"Bach\", \"Bach\", \"Master\", \"PhD\",\"Bach\",\"Master\"]"
   ]
  },
  {
   "cell_type": "markdown",
   "metadata": {},
   "source": [
    "2. Create a list of tuples, where each tuple is a pair (name,country), using comprehensions"
   ]
  },
  {
   "cell_type": "markdown",
   "metadata": {},
   "source": [
    "3. Implement a _for_ loop to count how many peruvian there are in the data frame. Try using **not** in one solution and **~** in another one."
   ]
  },
  {
   "cell_type": "markdown",
   "metadata": {},
   "source": [
    "4. Implement a _for_ loop to get the count of men. Try using **not** in one solution and **~** in another one."
   ]
  },
  {
   "cell_type": "markdown",
   "metadata": {},
   "source": [
    "Solve this in a new Jupyter notebook, and then upload it to GitHub. Name the notebook as 'ex_controlOfEx'."
   ]
  },
  {
   "cell_type": "markdown",
   "metadata": {},
   "source": [
    "## Homework"
   ]
  },
  {
   "cell_type": "markdown",
   "metadata": {},
   "source": [
    "1. Implement a _for_ loop to get the count of men that have a Bach degree in the data frame. I recommend the use of **zip** (somwehere)"
   ]
  },
  {
   "cell_type": "markdown",
   "metadata": {},
   "source": [
    "2. Implement a _for_ loop to get the count of people whose current age is an even number."
   ]
  },
  {
   "cell_type": "markdown",
   "metadata": {},
   "source": [
    "Solve this in a new Jupyter notebook, and then upload it to GitHub. Name the notebook as 'hw_controlOfEx'."
   ]
  },
  {
   "cell_type": "markdown",
   "metadata": {},
   "source": [
    "_____\n",
    "\n",
    "* [Go to page beginning](#beginning)\n",
    "* [Go to REPO in Github](https://github.com/EvansDataScience/ComputationalThinking_Gov_1)\n",
    "* [Go to Course schedule](https://evansdatascience.github.io/GovernanceAnalytics/)"
   ]
  }
 ],
 "metadata": {
  "anaconda-cloud": {},
  "hide_input": false,
  "kernelspec": {
   "display_name": "Python 3",
   "language": "python",
   "name": "python3"
  },
  "language_info": {
   "codemirror_mode": {
    "name": "ipython",
    "version": 3
   },
   "file_extension": ".py",
   "mimetype": "text/x-python",
   "name": "python",
   "nbconvert_exporter": "python",
   "pygments_lexer": "ipython3",
   "version": "3.7.0"
  }
 },
 "nbformat": 4,
 "nbformat_minor": 1
}
